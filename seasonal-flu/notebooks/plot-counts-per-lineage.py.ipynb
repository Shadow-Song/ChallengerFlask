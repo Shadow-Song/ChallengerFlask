{
 "cells": [
  {
   "cell_type": "markdown",
   "id": "0c5449d8-365a-4292-a772-6c1a79f5e43d",
   "metadata": {},
   "outputs": [],
   "source": [
    "# Plot counts per lineage through time"
   ]
  },
  {
   "cell_type": "markdown",
   "id": "4e0df709-e102-488f-8829-fe71a8433ae6",
   "metadata": {},
   "outputs": [],
   "source": [
    "## Imports"
   ]
  },
  {
   "cell_type": "code",
   "execution_count": null,
   "id": "59e89f6e-bfd1-4aaf-987b-00fc08133f25",
   "metadata": {},
   "outputs": [],
   "source": [
    "import altair as alt\n",
    "from altair_saver import save\n",
    "import pandas as pd"
   ]
  },
  {
   "cell_type": "markdown",
   "id": "06cbed4f-f94d-4d33-9b83-7354626d791f",
   "metadata": {},
   "outputs": [],
   "source": [
    "## Configuration"
   ]
  },
  {
   "cell_type": "code",
   "execution_count": null,
   "id": "12af8298-461d-4732-83da-6843ef29cae0",
   "metadata": {},
   "outputs": [],
   "source": [
    "min_date = \"2021-08-01\""
   ]
  },
  {
   "cell_type": "markdown",
   "id": "43c90ae7-2cac-44d1-9f8f-da40a0db7f20",
   "metadata": {},
   "outputs": [],
   "source": [
    "## Load metadata"
   ]
  },
  {
   "cell_type": "code",
   "execution_count": null,
   "id": "3364a1b7-1a62-4ba9-84eb-c2a9d1089bd7",
   "metadata": {},
   "outputs": [],
   "source": [
    "def load_lineage_dates(metadata_file, lineage):\n",
    "    df = pd.read_csv(metadata_file, sep=\"\\t\").dropna(subset=[\"date\"])\n",
    "    df[\"lineage\"] = lineage\n",
    "    dates = df.loc[~(df[\"date\"].str.contains(\"X\")), [\"lineage\", \"date\", \"region\"]]\n",
    "    \n",
    "    return dates"
   ]
  },
  {
   "cell_type": "code",
   "execution_count": null,
   "id": "ae5a76b3-dcef-4e02-8f23-7d90ce73b4fc",
   "metadata": {},
   "outputs": [],
   "source": [
    "h3n2_dates = load_lineage_dates(snakemake.input.h3n2_metadata, \"H3N2\")"
   ]
  },
  {
   "cell_type": "code",
   "execution_count": null,
   "id": "0cf87a0b-a0ac-41bb-b9ab-ce75a2bc112f",
   "metadata": {},
   "outputs": [],
   "source": [
    "h1n1pdm_dates = load_lineage_dates(snakemake.input.h1n1pdm_metadata, \"H1N1pdm\")"
   ]
  },
  {
   "cell_type": "code",
   "execution_count": null,
   "id": "ec15fbd0-3c0f-4a52-b5d1-46ef8ecfd3a3",
   "metadata": {},
   "outputs": [],
   "source": [
    "vic_dates = load_lineage_dates(snakemake.input.vic_metadata, \"Vic\")"
   ]
  },
  {
   "cell_type": "code",
   "execution_count": null,
   "id": "9e9f2ca1-7d98-4ec6-b7de-34c56069c7e4",
   "metadata": {},
   "outputs": [],
   "source": [
    "dates = pd.concat([h3n2_dates, h1n1pdm_dates, vic_dates])"
   ]
  },
  {
   "cell_type": "code",
   "execution_count": null,
   "id": "e200032c-2b6e-4bfe-950e-b254dd84ceed",
   "metadata": {},
   "outputs": [],
   "source": [
    "dates = dates.query(\"(date != '36-09-05') & (date != '?')\").copy()"
   ]
  },
  {
   "cell_type": "code",
   "execution_count": null,
   "id": "e654044a-f779-406b-99b3-970fce0d0c62",
   "metadata": {},
   "outputs": [],
   "source": [
    "dates.head()"
   ]
  },
  {
   "cell_type": "code",
   "execution_count": null,
   "id": "24bfca65-88b5-4eb2-9edb-11a6e387fd0c",
   "metadata": {},
   "outputs": [],
   "source": [
    "dates[\"date\"].max()"
   ]
  },
  {
   "cell_type": "code",
   "execution_count": null,
   "id": "39ea56e5-31c0-4371-bdc9-7d9eed50b4ad",
   "metadata": {},
   "outputs": [],
   "source": [
    "dates.shape"
   ]
  },
  {
   "cell_type": "code",
   "execution_count": null,
   "id": "ce5970b9-40cd-4b2f-97dd-12af3106c29f",
   "metadata": {},
   "outputs": [],
   "source": [
    "recent_dates = dates[dates[\"date\"] > min_date].copy()"
   ]
  },
  {
   "cell_type": "code",
   "execution_count": null,
   "id": "69820a11-2690-4845-9717-b6109f5e2c06",
   "metadata": {},
   "outputs": [],
   "source": [
    "recent_dates[\"date\"] = pd.to_datetime(recent_dates[\"date\"])"
   ]
  },
  {
   "cell_type": "code",
   "execution_count": null,
   "id": "36ed7571-1b95-4991-9d79-6faa8c4cb0d2",
   "metadata": {},
   "outputs": [],
   "source": [
    "recent_dates.shape"
   ]
  },
  {
   "cell_type": "code",
   "execution_count": null,
   "id": "be4253a6-6894-4a2d-81d6-1b3e3c0df07a",
   "metadata": {},
   "outputs": [],
   "source": [
    "regions = [region for region in sorted(recent_dates[\"region\"].drop_duplicates().values) if region != \"?\"]"
   ]
  },
  {
   "cell_type": "code",
   "execution_count": null,
   "id": "9ae4b9ab-6905-4321-b32e-d7240c88d3fa",
   "metadata": {},
   "outputs": [],
   "source": [
    "binned_counts = recent_dates.set_index(\"date\").groupby(\"lineage\").resample(\"1MS\").count().rename(columns={\"lineage\": \"samples\"}).reset_index()"
   ]
  },
  {
   "cell_type": "code",
   "execution_count": null,
   "id": "a8753ca3-172c-4a45-9495-5b9d06e835c8",
   "metadata": {},
   "outputs": [],
   "source": [
    "binned_counts"
   ]
  },
  {
   "cell_type": "code",
   "execution_count": null,
   "id": "038b9332-fcf1-49ac-9342-4e9503fe8ec2",
   "metadata": {
    "scrolled": false
   },
   "outputs": [],
   "source": [
    "all_lineages_chart = alt.Chart(binned_counts).mark_line(point=alt.OverlayMarkDef(size=100)).encode(\n",
    "    x=alt.X(\"yearmonth(date):T\", title=\"Date\"),\n",
    "    y=alt.Y(\"samples:Q\", title=\"Number of samples\"),\n",
    "    color=alt.Color(\"lineage:N\", sort=[\"H3N2\", \"H1N1pdm\", \"Vic\", \"Yam\"], title=\"Lineage\"),\n",
    "    tooltip=[\"lineage:N\", \"date:T\", \"samples:Q\"],\n",
    ").configure_axis(\n",
    "    labelFontSize=14,\n",
    "    titleFontSize=14,\n",
    ").configure_legend(\n",
    "    labelFontSize=14,\n",
    "    titleFontSize=14,\n",
    ").properties(\n",
    "    width=800,\n",
    "    height=300,\n",
    ")\n",
    "all_lineages_chart"
   ]
  },
  {
   "cell_type": "code",
   "execution_count": null,
   "id": "72a0bb83",
   "metadata": {},
   "outputs": [],
   "source": [
    "save(all_lineages_chart, snakemake.output.total_sample_count_by_lineage)"
   ]
  },
  {
   "cell_type": "code",
   "execution_count": null,
   "id": "9c04dcbc-2efa-4a24-a073-dc1614bbb5ff",
   "metadata": {},
   "outputs": [],
   "source": [
    "binned_counts_h1n1pdm = recent_dates.set_index(\"date\").query(\n",
    "    \"(lineage == 'H1N1pdm') & (date >= '2021-01-01')\"\n",
    ").groupby(\n",
    "    \"region\"\n",
    ").resample(\"1MS\").count().rename(columns={\"region\": \"samples\"}).reset_index()"
   ]
  },
  {
   "cell_type": "code",
   "execution_count": null,
   "id": "0364059a-cd36-456a-b425-59d84a6c4c20",
   "metadata": {},
   "outputs": [],
   "source": [
    "binned_counts_h1n1pdm"
   ]
  },
  {
   "cell_type": "code",
   "execution_count": null,
   "id": "e1cabc76-fd45-4d33-ada3-0858a3629057",
   "metadata": {},
   "outputs": [],
   "source": [
    "h1n1pdm_chart = alt.Chart(binned_counts_h1n1pdm).mark_line(point=alt.OverlayMarkDef(size=100)).encode(\n",
    "    x=alt.X(\"yearmonth(date):T\", title=\"Date\"),\n",
    "    y=alt.Y(\"samples:Q\", title=\"Number of samples\"),\n",
    "    color=alt.Color(\"region:N\", title=\"Region\", scale=alt.Scale(domain=regions, scheme='category10')),\n",
    "    tooltip=[\"region:N\", \"date:T\", \"samples:Q\"],\n",
    ").configure_axis(\n",
    "    labelFontSize=14,\n",
    "    titleFontSize=14,\n",
    ").configure_legend(\n",
    "    labelFontSize=14,\n",
    "    titleFontSize=14,\n",
    ").properties(\n",
    "    width=800,\n",
    "    height=300,\n",
    ")\n",
    "h1n1pdm_chart"
   ]
  },
  {
   "cell_type": "code",
   "execution_count": null,
   "id": "7624d94b",
   "metadata": {},
   "outputs": [],
   "source": [
    "save(h1n1pdm_chart, snakemake.output.total_sample_count_h1n1pdm)"
   ]
  },
  {
   "cell_type": "code",
   "execution_count": null,
   "id": "44515df1-c27f-46ad-b55f-e5401b38c292",
   "metadata": {},
   "outputs": [],
   "source": [
    "binned_counts_h3n2 = recent_dates.set_index(\"date\").query(\n",
    "    \"(lineage == 'H3N2') & (date >= '2019-11-01')\"\n",
    ").groupby(\n",
    "    \"region\"\n",
    ").resample(\"1MS\").count().rename(columns={\"region\": \"samples\"}).reset_index()"
   ]
  },
  {
   "cell_type": "code",
   "execution_count": null,
   "id": "31ea8f04-9336-4cd6-ab82-6570ecf36e75",
   "metadata": {},
   "outputs": [],
   "source": [
    "binned_counts_h3n2.query(\"region == 'China'\")"
   ]
  },
  {
   "cell_type": "code",
   "execution_count": null,
   "id": "6273f5f0-4296-4c18-abea-733d7f46ae56",
   "metadata": {},
   "outputs": [],
   "source": [
    "h3n2_chart = alt.Chart(binned_counts_h3n2).mark_line(point=alt.OverlayMarkDef(size=100)).encode(\n",
    "    x=alt.X(\"yearmonth(date):T\", title=\"Date\"),\n",
    "    y=alt.Y(\"samples:Q\", title=\"Number of samples\"),\n",
    "    color=alt.Color(\"region:N\", title=\"Region\", scale=alt.Scale(domain=regions, scheme='category10')),\n",
    "    tooltip=[\"region:N\", \"date:T\", \"samples:Q\"],\n",
    ").configure_axis(\n",
    "    labelFontSize=14,\n",
    "    titleFontSize=14,\n",
    ").configure_legend(\n",
    "    labelFontSize=14,\n",
    "    titleFontSize=14,\n",
    ").properties(\n",
    "    width=800,\n",
    "    height=300,\n",
    ")\n",
    "h3n2_chart"
   ]
  },
  {
   "cell_type": "code",
   "execution_count": null,
   "id": "7939e204",
   "metadata": {},
   "outputs": [],
   "source": [
    "save(h3n2_chart, snakemake.output.total_sample_count_h3n2)"
   ]
  },
  {
   "cell_type": "code",
   "execution_count": null,
   "id": "3d6f8d1f-6d3d-47b4-a961-cccde6541095",
   "metadata": {},
   "outputs": [],
   "source": [
    "binned_counts_vic = recent_dates.set_index(\"date\").query(\n",
    "    \"(lineage == 'Vic') & (date >= '2021-01-01')\"\n",
    ").groupby(\n",
    "    \"region\"\n",
    ").resample(\"1MS\").count().rename(columns={\"region\": \"samples\"}).reset_index()"
   ]
  },
  {
   "cell_type": "code",
   "execution_count": null,
   "id": "ade30386-9adc-404c-aa86-5d03646ce2d6",
   "metadata": {},
   "outputs": [],
   "source": [
    "vic_chart = alt.Chart(binned_counts_vic).mark_line(point=alt.OverlayMarkDef(size=100)).encode(\n",
    "    x=alt.X(\"yearmonth(date):T\", title=\"Date\"),\n",
    "    y=alt.Y(\"samples:Q\", title=\"Number of samples\"),\n",
    "    color=alt.Color(\"region:N\", title=\"Region\", scale=alt.Scale(domain=regions, scheme='category10')),\n",
    "    tooltip=[\"region:N\", \"date:T\", \"samples:Q\"],\n",
    ").configure_axis(\n",
    "    labelFontSize=14,\n",
    "    titleFontSize=14,\n",
    ").configure_legend(\n",
    "    labelFontSize=14,\n",
    "    titleFontSize=14,\n",
    ").properties(\n",
    "    width=800,\n",
    "    height=300,\n",
    ")\n",
    "vic_chart"
   ]
  },
  {
   "cell_type": "code",
   "execution_count": null,
   "id": "691b9398-3a16-49cb-9e16-ad54ecfcc579",
   "metadata": {},
   "outputs": [],
   "source": [
    "save(vic_chart, snakemake.output.total_sample_count_vic)"
   ]
  },
  {
   "cell_type": "code",
   "execution_count": null,
   "id": "ec8eecdf",
   "metadata": {},
   "outputs": [],
   "source": []
  }
 ],
 "metadata": {
  "kernelspec": {
   "display_name": "Python 3 (ipykernel)",
   "language": "python",
   "name": "python3"
  },
  "language_info": {
   "codemirror_mode": {
    "name": "ipython",
    "version": 3
   },
   "file_extension": ".py",
   "mimetype": "text/x-python",
   "name": "python",
   "nbconvert_exporter": "python",
   "pygments_lexer": "ipython3",
   "version": "3.9.16"
  }
 },
 "nbformat": 4,
 "nbformat_minor": 5
}
